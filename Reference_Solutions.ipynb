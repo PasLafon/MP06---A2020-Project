{
 "cells": [
  {
   "cell_type": "markdown",
   "metadata": {},
   "source": [
    "## MP06 Project : reference solutions"
   ]
  },
  {
   "cell_type": "markdown",
   "metadata": {},
   "source": [
    "<img src=\"Fig-Beam-convex.svg\" width=\"60%\"/>  "
   ]
  },
  {
   "cell_type": "markdown",
   "metadata": {},
   "source": [
    "$l=300$mm, $h_0=60$mm, $h_1=40$mm, $r_0=22$mm, $r_1=15$mm, $\\Vert\\vec{F}\\Vert/h_1=5$N/mm"
   ]
  },
  {
   "cell_type": "code",
   "execution_count": 97,
   "metadata": {},
   "outputs": [
    {
     "name": "stdout",
     "output_type": "stream",
     "text": [
      " kk 2 6 :  kk 2 6 : \n",
      "Max sig_vm       [MPa]:304.697\n",
      "Max displacement  [mm]:0.728758\n",
      "Surface         [mm^2]:13791.6\n",
      "CPU times: user 12.3 ms, sys: 9.39 ms, total: 21.7 ms\n",
      "Wall time: 729 ms\n"
     ]
    }
   ],
   "source": [
    "%time !FreeFem++ -nw -v 0 MP06-beam-convex.edp l 300 h0 60 h1 40 r0 22 r1 15 f 5 p 1"
   ]
  },
  {
   "cell_type": "markdown",
   "metadata": {},
   "source": [
    "<img src=\"MP06-beam-convex-sigvm.svg\" width=\"100%\" />"
   ]
  },
  {
   "cell_type": "markdown",
   "metadata": {},
   "source": [
    "<img src=\"Fig-Beam-concave.svg\" width=\"60%\"/>  "
   ]
  },
  {
   "cell_type": "markdown",
   "metadata": {},
   "source": [
    "$l=300$mm, $h_0=60$mm, $h_1=40$mm, $r_0=22$mm, $r_1=15$mm, $\\Vert\\vec{F}\\Vert/h_1=5$N/mm"
   ]
  },
  {
   "cell_type": "code",
   "execution_count": 95,
   "metadata": {},
   "outputs": [
    {
     "name": "stdout",
     "output_type": "stream",
     "text": [
      " kk 2 6 :  kk 2 6 : \n",
      "Max sig_vm       [MPa]:479.366\n",
      "Max displacement  [mm]:1.16216\n",
      "Surface         [mm^2]:11779.2\n",
      "CPU times: user 22.4 ms, sys: 13 ms, total: 35.4 ms\n",
      "Wall time: 1.25 s\n"
     ]
    }
   ],
   "source": [
    "%time !FreeFem++ -nw -v 0 MP06-beam-concave.edp l 300 h0 60 h1 40 r0 22 r1 15 f 5 p 1"
   ]
  },
  {
   "cell_type": "markdown",
   "metadata": {},
   "source": [
    "<img src=\"MP06-beam-concave-sigvm.svg\" width=\"100%\" />"
   ]
  }
 ],
 "metadata": {
  "kernelspec": {
   "display_name": "Python 3",
   "language": "python",
   "name": "python3"
  },
  "language_info": {
   "codemirror_mode": {
    "name": "ipython",
    "version": 3
   },
   "file_extension": ".py",
   "mimetype": "text/x-python",
   "name": "python",
   "nbconvert_exporter": "python",
   "pygments_lexer": "ipython3",
   "version": "3.8.5"
  }
 },
 "nbformat": 4,
 "nbformat_minor": 4
}
