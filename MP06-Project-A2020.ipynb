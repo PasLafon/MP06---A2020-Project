{
 "cells": [
  {
   "cell_type": "markdown",
   "metadata": {},
   "source": [
    "# <div align=\"center\">MP06 : Modelisation and optimisation of structures and manufacturing processes</div>\n",
    "# <div align=\"center\">Project A2020 - Cantilever Beam optimization</div>\n",
    "\n",
    "<div align=\"right\"> <a href=\"mailto:florian.blachere@utt.fr\">Florian Blachère</a> and <a href=\"mailto:pascal.lafon@utt.fr\">Pascal Lafon</a> - Novembre 2020 </div>"
   ]
  },
  {
   "cell_type": "markdown",
   "metadata": {},
   "source": [
    "## 1. Context :"
   ]
  },
  {
   "cell_type": "markdown",
   "metadata": {},
   "source": [
    "The aim of this project is to apply methods learned during the MP06 lecture in order to optimize the shape of a cantilever beam."
   ]
  },
  {
   "cell_type": "markdown",
   "metadata": {},
   "source": [
    "<img src=\"Fig-Beam-convex.svg\" width=\"60%\"/>    \n",
    "<div align=\"center\">Cas1 : Convex cantilever beam</div>    \n",
    "<img src=\"Fig-Beam-concave.svg\" width=\"60%\"/>\n",
    "<div align=\"center\">Cas2 : Concave cantilever beam</div> "
   ]
  },
  {
   "cell_type": "markdown",
   "metadata": {},
   "source": [
    "On the convex shape, the large arc of $R$ radius has an horiontal tangent in $M_0$ and $M_3$. For the concave shape, the large arc of $R$ radius has an horiontal tangent in $M_1$ and $M_2$."
   ]
  },
  {
   "cell_type": "markdown",
   "metadata": {},
   "source": [
    "The minimal list of design variables, for those shapes is :\n",
    "$$h_0,h_1,r_0,r_1$$"
   ]
  },
  {
   "cell_type": "markdown",
   "metadata": {},
   "source": [
    "## 2. Model :"
   ]
  },
  {
   "cell_type": "markdown",
   "metadata": {},
   "source": [
    "The model used is this problem is based on classical theory of elasticity, in small strain, with an isotropic and homogenous material. The material is model by a the Hooke law, such as :\n",
    "$$\\boldsymbol{\\sigma}(\\boldsymbol{u})=\\frac{E}{1+\\nu}\\left(\\boldsymbol{\\varepsilon}(\\boldsymbol{u})+\\frac{\\nu}{1-2\\nu}\\text{Tr}(\\boldsymbol{\\varepsilon}(\\boldsymbol{u}))\\boldsymbol{I}\\right)=2\\mu\\boldsymbol{\\varepsilon}(\\boldsymbol{u}) + 2\\lambda\\text{Tr}(\\boldsymbol{\\varepsilon}(\\boldsymbol{u}))\\boldsymbol{I}$$"
   ]
  },
  {
   "cell_type": "markdown",
   "metadata": {},
   "source": [
    "with :\n",
    "* $E$ the young modulus, $\\nu$ the poisson ratio of the material, $\\boldsymbol{I}$ the identity tensor, $\\boldsymbol{\\sigma}$ and $\\boldsymbol{\\varepsilon}$ respectivly the stress and strain tensor (wich are symetric).\n",
    "and :\n",
    "* $\\lambda=\\dfrac{E\\nu}{(1+\\nu)((1-2\\nu)}$ and $\\mu=\\dfrac{E}{2(1+\\nu)}$ are Lamé coefficient."
   ]
  },
  {
   "cell_type": "markdown",
   "metadata": {},
   "source": [
    "Where $\\boldsymbol{u}$ is the displacement field in the domain $\\Omega$ of the structure, the strain tensor is :\n",
    "$$\\boldsymbol{\\varepsilon}(\\boldsymbol{u})=\\frac{1}{2}\\left(\\nabla\\boldsymbol{u} + \\nabla\\boldsymbol{u}^T\\right)$$\n",
    "\n",
    "$$\\varepsilon_{ij}(\\boldsymbol{u})=\\frac{1}{2}\\left(\\frac{\\partial u_i}{\\partial x_j}+\\frac{\\partial u_j}{\\partial x_i}\\right)\\quad 1\\leq i,j\\leq 2$$"
   ]
  },
  {
   "cell_type": "markdown",
   "metadata": {},
   "source": [
    "The static equilibrium of the domain $\\Omega$ is given by :\n",
    "$$\\nabla\\cdot\\boldsymbol{\\sigma} + \\boldsymbol{f} = 0$$\n",
    "where $\\boldsymbol{f}$ is the body force and $\\nabla\\cdot$ the divergence operator.\n",
    "Boundary condition on $\\Omega$ must exists. If $\\Gamma$ denotes the boundary of $\\Omega$ the most common one are [*Dirichlet*](https://en.wikipedia.org/wiki/Dirichlet_boundary_condition) conditons on a piecewise of $\\Gamma$, $\\Gamma_D$ or [*Neumann*](https://en.wikipedia.org/wiki/Neumann_boundary_condition) conditions on $\\Gamma_N$."
   ]
  },
  {
   "cell_type": "markdown",
   "metadata": {},
   "source": [
    "To solve this problem, finite elments method solve the weak formulation associated to this problem :\n",
    "\n",
    "$$\\int\\limits_\\Omega\\boldsymbol{\\sigma}(\\boldsymbol{u}):\\boldsymbol{\\varepsilon}(\\boldsymbol{v})\\text{d}v - \\int\\limits_\\Omega\\boldsymbol{f}\\text{d}v = 0$$"
   ]
  },
  {
   "cell_type": "markdown",
   "metadata": {},
   "source": [
    "which be can also written :\n",
    "\n",
    "$$\\int\\limits_\\Omega\\left(2\\mu\\boldsymbol{\\varepsilon}(\\boldsymbol{u})\\cdot\\boldsymbol{\\varepsilon}(\\boldsymbol{v}) + \\lambda(\\nabla\\cdot\\boldsymbol{u})(\\nabla\\cdot\\boldsymbol{v})\\right)\\text{d}v  - \\int\\limits_\\Omega\\boldsymbol{f}\\text{d}v = 0$$"
   ]
  },
  {
   "cell_type": "markdown",
   "metadata": {},
   "source": [
    "The finite elements open source [FreeFem++](https://doc.freefem.org/introduction/index.html) will be used to compute the solution of this problem."
   ]
  },
  {
   "cell_type": "markdown",
   "metadata": {},
   "source": [
    "## 3. Optimization problem"
   ]
  },
  {
   "cell_type": "markdown",
   "metadata": {},
   "source": [
    "The optimisation problem consist in minimizing the volume of these cantilever beam using the four design variables $h_0$, $r_0$, $h_1$ and $r_1$.\n",
    "\n",
    "The following condition must respected :\n",
    "* The maximal *von Mises* in the beam must not exceed the yield stress of the material : $R_e$.\n",
    "* The maximal euclidian norm the displacement must not exceed $u_\\text{max}$.\n",
    "* The circle of radius $r_0$ and $r_1$ must not intersec the boundary in order to garantee proper meshing of the domain."
   ]
  },
  {
   "cell_type": "markdown",
   "metadata": {},
   "source": [
    "## 4. Data for each group"
   ]
  },
  {
   "cell_type": "markdown",
   "metadata": {},
   "source": [
    "The table below shows the set of data for each of the 12 groups :"
   ]
  },
  {
   "cell_type": "markdown",
   "metadata": {},
   "source": [
    "| Group # | Case of study  | $u_\\text{Max}$ | $l$  | $R_e$ | $\\Vert\\vec{F}\\Vert/h_1$ |\n",
    "|-------: |:---------------|:---------------|:---- |:------|:------------------------|\n",
    "|         |                |**mm**          |**mm**|**MPa**|**N/mm**                 |\n",
    "|         |                |                |      |       |                         |\n",
    "| **1**   | concave        | 5              | 300  | 200   | 10                      |\n",
    "| **2**   | concave        | 5              | 300  | 200   | 10                      |\n",
    "| **3**   | concave        | 7              | 400  | 300   | 07                      |\n",
    "| **4**   | concave        | 7              | 450  | 300   | 07                      |\n",
    "| **5**   | concave        | 10             | 500  | 400   | 05                      |\n",
    "| **6**   | concave        | 10             | 550  | 400   | 05                      |\n",
    "| **7**   | convex         | 5              | 300  | 200   | 10                      |\n",
    "| **8**   | convex         | 5              | 350  | 200   | 10                      |\n",
    "| **9**   | convex         | 7              | 400  | 300   | 07                      |\n",
    "| **10**  | convex         | 7              | 450  | 300   | 07                      |\n",
    "| **11**  | convex         | 10             | 500  | 400   | 05                      |\n",
    "| **12**  | convex         | 10             | 550  | 400   | 05                      |\n",
    "\n"
   ]
  },
  {
   "cell_type": "markdown",
   "metadata": {},
   "source": [
    "## 5. Expected work"
   ]
  },
  {
   "cell_type": "markdown",
   "metadata": {},
   "source": [
    "*The final aim of this project is to deliver the best optimized solution of this structure, i.e the design of the structure with the minimal mass that respect limitation imposed by the yield stress $R_e$ of the material and for which the maximum displacement dot not exceed the given value $u_\\text{Max}$.*"
   ]
  },
  {
   "cell_type": "markdown",
   "metadata": {},
   "source": [
    "**Your work will be organize in four steps :**\n",
    "1. Set up the model in FreeFem++\n",
    "    1. Definition of the boundaries (analytical expression of the different sides of the beam).\n",
    "    2. Definition of the elasticity problem.\n",
    "    3. Definition, if require of a remeshing procedure to improve accuracy of results.\n",
    "    \n",
    "2. Analyse the model : understand the effects of variation of the 4 design variables and analyse a first design.\n",
    "\n",
    "3. Definition of the optimization problem\n",
    "    1. Definition of the design variables\n",
    "    2. Definition of the feasible domain by constraints function and bounds on variables.\n",
    "    3. Definition of the function to be minimize.\n",
    "    \n",
    "4. Optimization procedure\n",
    "    1. Choose the suitable algoritm to solve your optimization problem (e.g. Scipy librairie of python bu also anay other optimization librarie, including genetics algorithms like [Pymoo](https://pymoo.org)).\n",
    "    2. Run the chosen optimization algorithm."
   ]
  },
  {
   "cell_type": "markdown",
   "metadata": {},
   "source": [
    "**Expected deliverable (for a pairs of students) :-> due before sunday 10th of january 23:00h**"
   ]
  },
  {
   "cell_type": "markdown",
   "metadata": {},
   "source": [
    "1. The FreeFem++ model of your beam (`.edp` file).\n",
    "2. External Python code that you have developped in this project.\n",
    "3. A short report, using Jupyter Notebook in which you will explain :\n",
    "    * The definition of the FreeFem++ model (including definition of boundaries).\n",
    "    * The formulation of the optimization problem.\n",
    "    * Optimization procedure and your analysis of results. "
   ]
  },
  {
   "cell_type": "markdown",
   "metadata": {},
   "source": []
  }
 ],
 "metadata": {
  "kernelspec": {
   "display_name": "Python 3",
   "language": "python",
   "name": "python3"
  },
  "language_info": {
   "codemirror_mode": {
    "name": "ipython",
    "version": 3
   },
   "file_extension": ".py",
   "mimetype": "text/x-python",
   "name": "python",
   "nbconvert_exporter": "python",
   "pygments_lexer": "ipython3",
   "version": "3.7.7"
  }
 },
 "nbformat": 4,
 "nbformat_minor": 4
}
